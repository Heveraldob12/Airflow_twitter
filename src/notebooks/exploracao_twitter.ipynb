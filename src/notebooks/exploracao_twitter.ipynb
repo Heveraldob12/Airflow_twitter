{
 "cells": [
  {
   "attachments": {},
   "cell_type": "markdown",
   "metadata": {},
   "source": [
    "### Imports\n",
    "\n",
    "---\n"
   ]
  },
  {
   "cell_type": "code",
   "execution_count": 1,
   "metadata": {},
   "outputs": [
    {
     "name": "stdout",
     "output_type": "stream",
     "text": [
      "Requirement already satisfied: pyspark==3.3.1 in /home/heveraldo/airflow/venv/lib/python3.9/site-packages (3.3.1)\n",
      "Requirement already satisfied: py4j==0.10.9.5 in /home/heveraldo/airflow/venv/lib/python3.9/site-packages (from pyspark==3.3.1) (0.10.9.5)\n",
      "Collecting pandas\n",
      "  Downloading pandas-1.5.3-cp39-cp39-manylinux_2_17_x86_64.manylinux2014_x86_64.whl (12.2 MB)\n",
      "\u001b[K     |████████████████████████████████| 12.2 MB 166 kB/s eta 0:00:01    |███████                         | 2.7 MB 844 kB/s eta 0:00:12�███████████▏                   | 4.6 MB 242 kB/s eta 0:00:32     |███████████████████████         | 8.8 MB 2.1 MB/s eta 0:00:02\n",
      "\u001b[?25hCollecting matplotlib\n",
      "  Downloading matplotlib-3.7.1-cp39-cp39-manylinux_2_17_x86_64.manylinux2014_x86_64.whl (11.6 MB)\n",
      "\u001b[K     |████████████████████████████████| 11.6 MB 166 kB/s eta 0:00:01    |█▎                              | 481 kB 360 kB/s eta 0:00:31     |█▊                              | 624 kB 360 kB/s eta 0:00:31     |██████▊                         | 2.4 MB 360 kB/s eta 0:00:26     |██████████▏                     | 3.7 MB 7.0 MB/s eta 0:00:02     |█████████████████████▎          | 7.7 MB 4.9 MB/s eta 0:00:01\n",
      "\u001b[?25hRequirement already satisfied: pytz>=2020.1 in /home/heveraldo/airflow/venv/lib/python3.9/site-packages (from pandas) (2022.1)\n",
      "Collecting numpy>=1.20.3; python_version < \"3.10\"\n",
      "  Downloading numpy-1.24.2-cp39-cp39-manylinux_2_17_x86_64.manylinux2014_x86_64.whl (17.3 MB)\n",
      "\u001b[K     |████████████████████████████████| 17.3 MB 981 kB/s eta 0:00:01    |▉                               | 440 kB 274 kB/s eta 0:01:02     |█████▎                          | 2.9 MB 2.1 MB/s eta 0:00:07     |███████▋                        | 4.1 MB 224 kB/s eta 0:00:59     |█████████████████████▋          | 11.7 MB 1.4 MB/s eta 0:00:05\n",
      "\u001b[?25hRequirement already satisfied: python-dateutil>=2.8.1 in /home/heveraldo/airflow/venv/lib/python3.9/site-packages (from pandas) (2.8.2)\n",
      "Collecting contourpy>=1.0.1\n",
      "  Downloading contourpy-1.0.7-cp39-cp39-manylinux_2_17_x86_64.manylinux2014_x86_64.whl (299 kB)\n",
      "\u001b[K     |████████████████████████████████| 299 kB 347 kB/s eta 0:00:01\n",
      "\u001b[?25hRequirement already satisfied: packaging>=20.0 in /home/heveraldo/airflow/venv/lib/python3.9/site-packages (from matplotlib) (21.3)\n",
      "Collecting kiwisolver>=1.0.1\n",
      "  Downloading kiwisolver-1.4.4-cp39-cp39-manylinux_2_12_x86_64.manylinux2010_x86_64.whl (1.6 MB)\n",
      "\u001b[K     |████████████████████████████████| 1.6 MB 697 kB/s eta 0:00:01\n",
      "\u001b[?25hRequirement already satisfied: pyparsing>=2.3.1 in /home/heveraldo/airflow/venv/lib/python3.9/site-packages (from matplotlib) (2.4.7)\n",
      "Collecting cycler>=0.10\n",
      "  Downloading cycler-0.11.0-py3-none-any.whl (6.4 kB)\n",
      "Collecting fonttools>=4.22.0\n",
      "  Downloading fonttools-4.39.0-py3-none-any.whl (1.0 MB)\n",
      "\u001b[K     |████████████████████████████████| 1.0 MB 386 kB/s eta 0:00:01�█████████████████    | 880 kB 386 kB/s eta 0:00:01\n",
      "\u001b[?25hCollecting importlib-resources>=3.2.0; python_version < \"3.10\"\n",
      "  Downloading importlib_resources-5.12.0-py3-none-any.whl (36 kB)\n",
      "Collecting pillow>=6.2.0\n",
      "  Downloading Pillow-9.4.0-cp39-cp39-manylinux_2_17_x86_64.manylinux2014_x86_64.whl (3.3 MB)\n",
      "\u001b[K     |████████████████████████████████| 3.3 MB 471 kB/s eta 0:00:01\n",
      "\u001b[?25hRequirement already satisfied: six>=1.5 in /home/heveraldo/airflow/venv/lib/python3.9/site-packages (from python-dateutil>=2.8.1->pandas) (1.16.0)\n",
      "Requirement already satisfied: zipp>=3.1.0; python_version < \"3.10\" in /home/heveraldo/airflow/venv/lib/python3.9/site-packages (from importlib-resources>=3.2.0; python_version < \"3.10\"->matplotlib) (3.8.0)\n",
      "Installing collected packages: numpy, pandas, contourpy, kiwisolver, cycler, fonttools, importlib-resources, pillow, matplotlib\n",
      "Successfully installed contourpy-1.0.7 cycler-0.11.0 fonttools-4.39.0 importlib-resources-5.12.0 kiwisolver-1.4.4 matplotlib-3.7.1 numpy-1.24.2 pandas-1.5.3 pillow-9.4.0\n"
     ]
    }
   ],
   "source": [
    "!pip install pyspark==3.3.1\n",
    "! pip install pandas matplotlib"
   ]
  },
  {
   "cell_type": "code",
   "execution_count": 2,
   "metadata": {},
   "outputs": [],
   "source": [
    "from pyspark.sql import SparkSession"
   ]
  },
  {
   "attachments": {},
   "cell_type": "markdown",
   "metadata": {},
   "source": [
    "## Exploração Bronze"
   ]
  },
  {
   "cell_type": "code",
   "execution_count": 3,
   "metadata": {},
   "outputs": [
    {
     "name": "stdout",
     "output_type": "stream",
     "text": [
      "23/03/12 11:38:46 WARN Utils: Your hostname, heveraldo-VirtualBox resolves to a loopback address: 127.0.1.1; using 10.0.2.15 instead (on interface enp0s3)\n",
      "23/03/12 11:38:46 WARN Utils: Set SPARK_LOCAL_IP if you need to bind to another address\n"
     ]
    },
    {
     "name": "stderr",
     "output_type": "stream",
     "text": [
      "Setting default log level to \"WARN\".\n",
      "To adjust logging level use sc.setLogLevel(newLevel). For SparkR, use setLogLevel(newLevel).\n"
     ]
    },
    {
     "name": "stdout",
     "output_type": "stream",
     "text": [
      "23/03/12 11:38:50 WARN NativeCodeLoader: Unable to load native-hadoop library for your platform... using builtin-java classes where applicable\n"
     ]
    }
   ],
   "source": [
    "spark= SparkSession\\\n",
    "    .builder\\\n",
    "    .appName(\"twitter_transformation\")\\\n",
    "    .getOrCreate()\n"
   ]
  },
  {
   "cell_type": "code",
   "execution_count": 4,
   "metadata": {},
   "outputs": [
    {
     "name": "stderr",
     "output_type": "stream",
     "text": [
      "                                                                                \r"
     ]
    }
   ],
   "source": [
    "df = spark.read.json(\"../../datalake/Bronze/twitter_datascience/\")"
   ]
  },
  {
   "cell_type": "code",
   "execution_count": 5,
   "metadata": {},
   "outputs": [
    {
     "name": "stdout",
     "output_type": "stream",
     "text": [
      "+--------------------+--------------------+--------------------+------------+\n",
      "|                data|            includes|                meta|extract_date|\n",
      "+--------------------+--------------------+--------------------+------------+\n",
      "|[{163431558285725...|{[{2023-03-10T22:...|{1634343373174714...|  2023-03-10|\n",
      "|[{527816441, 1634...|{[{2012-03-17T20:...|{1634343098334560...|  2023-03-10|\n",
      "|[{163284280386779...|{[{2023-03-06T20:...|{1634342096197894...|  2023-03-10|\n",
      "|[{190097582, 1634...|{[{2010-09-13T02:...|{1634341762171916...|  2023-03-10|\n",
      "|[{190097582, 1634...|{[{2010-09-13T02:...|{1634341348831645...|  2023-03-10|\n",
      "|[{292711049, 1634...|{[{2011-05-04T03:...|{1634340456581480...|  2023-03-10|\n",
      "|[{162292495016314...|{[{2023-02-07T11:...|{1634339727632367...|  2023-03-10|\n",
      "|[{113289077589150...|{[{2019-05-27T06:...|{1634338823566917...|  2023-03-10|\n",
      "|[{104136724813970...|{[{2018-09-16T16:...|{1634338543353974...|  2023-03-10|\n",
      "|[{149968503384990...|{[{2022-03-04T09:...|{1634338185097379...|  2023-03-10|\n",
      "|[{266696234, 1633...|{[{2011-03-15T17:...|{1633980939301781...|  2023-03-09|\n",
      "|[{190097582, 1633...|{[{2010-09-13T02:...|{1633980271795093...|  2023-03-09|\n",
      "|[{3043327738, 163...|{[{2015-02-17T18:...|{1633979565092622...|  2023-03-09|\n",
      "|[{114386637735201...|{[{2019-06-26T12:...|{1633978281887399...|  2023-03-09|\n",
      "|[{921604584400752...|{[{2017-10-21T05:...|{1633977605337542...|  2023-03-09|\n",
      "|[{1342533391, 163...|{[{2013-04-10T18:...|{1633977136074698...|  2023-03-09|\n",
      "|[{15440121, 16339...|{[{2008-07-15T13:...|{1633976822604988...|  2023-03-09|\n",
      "|[{113289077589150...|{[{2019-05-27T06:...|{1633976400330752...|  2023-03-09|\n",
      "|[{486897633, 1633...|{[{2012-02-08T19:...|{1633976199650193...|  2023-03-09|\n",
      "|[{104136724813970...|{[{2018-09-16T16:...|{1633976153596723...|  2023-03-09|\n",
      "+--------------------+--------------------+--------------------+------------+\n",
      "only showing top 20 rows\n",
      "\n"
     ]
    }
   ],
   "source": [
    "df.show()"
   ]
  },
  {
   "cell_type": "code",
   "execution_count": 6,
   "metadata": {},
   "outputs": [
    {
     "name": "stdout",
     "output_type": "stream",
     "text": [
      "root\n",
      " |-- data: array (nullable = true)\n",
      " |    |-- element: struct (containsNull = true)\n",
      " |    |    |-- author_id: string (nullable = true)\n",
      " |    |    |-- conversation_id: string (nullable = true)\n",
      " |    |    |-- created_at: string (nullable = true)\n",
      " |    |    |-- edit_history_tweet_ids: array (nullable = true)\n",
      " |    |    |    |-- element: string (containsNull = true)\n",
      " |    |    |-- id: string (nullable = true)\n",
      " |    |    |-- in_reply_to_user_id: string (nullable = true)\n",
      " |    |    |-- lang: string (nullable = true)\n",
      " |    |    |-- public_metrics: struct (nullable = true)\n",
      " |    |    |    |-- impression_count: long (nullable = true)\n",
      " |    |    |    |-- like_count: long (nullable = true)\n",
      " |    |    |    |-- quote_count: long (nullable = true)\n",
      " |    |    |    |-- reply_count: long (nullable = true)\n",
      " |    |    |    |-- retweet_count: long (nullable = true)\n",
      " |    |    |-- text: string (nullable = true)\n",
      " |    |    |-- withheld: struct (nullable = true)\n",
      " |    |    |    |-- copyright: boolean (nullable = true)\n",
      " |    |    |    |-- country_codes: array (nullable = true)\n",
      " |    |    |    |    |-- element: string (containsNull = true)\n",
      " |-- includes: struct (nullable = true)\n",
      " |    |-- users: array (nullable = true)\n",
      " |    |    |-- element: struct (containsNull = true)\n",
      " |    |    |    |-- created_at: string (nullable = true)\n",
      " |    |    |    |-- id: string (nullable = true)\n",
      " |    |    |    |-- name: string (nullable = true)\n",
      " |    |    |    |-- username: string (nullable = true)\n",
      " |    |    |    |-- withheld: struct (nullable = true)\n",
      " |    |    |    |    |-- country_codes: array (nullable = true)\n",
      " |    |    |    |    |    |-- element: string (containsNull = true)\n",
      " |-- meta: struct (nullable = true)\n",
      " |    |-- newest_id: string (nullable = true)\n",
      " |    |-- next_token: string (nullable = true)\n",
      " |    |-- oldest_id: string (nullable = true)\n",
      " |    |-- result_count: long (nullable = true)\n",
      " |-- extract_date: date (nullable = true)\n",
      "\n"
     ]
    }
   ],
   "source": [
    "df.printSchema()"
   ]
  },
  {
   "cell_type": "code",
   "execution_count": 7,
   "metadata": {},
   "outputs": [],
   "source": [
    "from pyspark.sql import functions as f"
   ]
  },
  {
   "cell_type": "code",
   "execution_count": 8,
   "metadata": {},
   "outputs": [
    {
     "name": "stdout",
     "output_type": "stream",
     "text": [
      "root\n",
      " |-- col: struct (nullable = true)\n",
      " |    |-- author_id: string (nullable = true)\n",
      " |    |-- conversation_id: string (nullable = true)\n",
      " |    |-- created_at: string (nullable = true)\n",
      " |    |-- edit_history_tweet_ids: array (nullable = true)\n",
      " |    |    |-- element: string (containsNull = true)\n",
      " |    |-- id: string (nullable = true)\n",
      " |    |-- in_reply_to_user_id: string (nullable = true)\n",
      " |    |-- lang: string (nullable = true)\n",
      " |    |-- public_metrics: struct (nullable = true)\n",
      " |    |    |-- impression_count: long (nullable = true)\n",
      " |    |    |-- like_count: long (nullable = true)\n",
      " |    |    |-- quote_count: long (nullable = true)\n",
      " |    |    |-- reply_count: long (nullable = true)\n",
      " |    |    |-- retweet_count: long (nullable = true)\n",
      " |    |-- text: string (nullable = true)\n",
      " |    |-- withheld: struct (nullable = true)\n",
      " |    |    |-- copyright: boolean (nullable = true)\n",
      " |    |    |-- country_codes: array (nullable = true)\n",
      " |    |    |    |-- element: string (containsNull = true)\n",
      "\n"
     ]
    }
   ],
   "source": [
    "df.select(f.explode(\"data\")).printSchema()"
   ]
  },
  {
   "cell_type": "code",
   "execution_count": 9,
   "metadata": {},
   "outputs": [
    {
     "name": "stdout",
     "output_type": "stream",
     "text": [
      "root\n",
      " |-- author_id: string (nullable = true)\n",
      " |-- conversation_id: string (nullable = true)\n",
      " |-- created_at: string (nullable = true)\n",
      " |-- id: string (nullable = true)\n",
      " |-- impression_count: long (nullable = true)\n",
      " |-- like_count: long (nullable = true)\n",
      " |-- quote_count: long (nullable = true)\n",
      " |-- reply_count: long (nullable = true)\n",
      " |-- retweet_count: long (nullable = true)\n",
      " |-- text: string (nullable = true)\n",
      "\n"
     ]
    }
   ],
   "source": [
    "df.select(f.explode(\"data\").alias(\"tweets\"))\\\n",
    "  .select(\"tweets.author_id\", \"tweets.conversation_id\",\n",
    "        \"tweets.created_at\", \"tweets.id\",\n",
    "        \"tweets.public_metrics.*\", \"tweets.text\").printSchema()"
   ]
  },
  {
   "cell_type": "code",
   "execution_count": 10,
   "metadata": {},
   "outputs": [],
   "source": [
    "tweet_df = df.select(f.explode(\"data\").alias(\"tweets\"))\\\n",
    "  .select(\"tweets.author_id\", \"tweets.conversation_id\",\n",
    "        \"tweets.created_at\", \"tweets.id\",\n",
    "        \"tweets.public_metrics.*\", \"tweets.text\")"
   ]
  },
  {
   "cell_type": "code",
   "execution_count": 11,
   "metadata": {},
   "outputs": [
    {
     "name": "stdout",
     "output_type": "stream",
     "text": [
      "+-------------------+-------------------+--------------------+-------------------+----------------+----------+-----------+-----------+-------------+--------------------+\n",
      "|          author_id|    conversation_id|          created_at|                 id|impression_count|like_count|quote_count|reply_count|retweet_count|                text|\n",
      "+-------------------+-------------------+--------------------+-------------------+----------------+----------+-----------+-----------+-------------+--------------------+\n",
      "|1634315582857256960|1634343373174714368|2023-03-10T23:59:...|1634343373174714368|               0|         0|          0|          0|            1|RT @KirkDBorne: E...|\n",
      "|          150030084|1634343357009854464|2023-03-10T23:59:...|1634343357009854464|               0|         0|          0|          0|           76|RT @RosanaFerrero...|\n",
      "|1356588046616043527|1634343354526838787|2023-03-10T23:59:...|1634343354526838787|               0|         0|          0|          0|            1|RT @BROOKSWOODWOR...|\n",
      "| 922109833637126147|1634343344062218240|2023-03-10T23:59:...|1634343344062218240|             139|        11|          0|          0|            3|[BEST] #Udemy Doc...|\n",
      "|1634315582857256960|1634343304144846850|2023-03-10T23:59:...|1634343304144846850|               0|         0|          0|          0|           15|RT @KirkDBorne: T...|\n",
      "|          238071685|1634343247924408322|2023-03-10T23:59:...|1634343247924408322|               0|         0|          0|          0|          186|RT @amankk_9: 50 ...|\n",
      "|          486573105|1634343171885760513|2023-03-10T23:59:...|1634343171885760513|               4|         0|          0|          0|            0|https://t.co/Znch...|\n",
      "|         3873598893|1634343124519510017|2023-03-10T23:59:...|1634343124519510017|              15|         0|          0|          0|            0|I made my first #...|\n",
      "|           64197067|1634343122896560128|2023-03-10T23:58:...|1634343122896560128|              29|         0|          0|          1|            1|Imagine =\\nUnlock...|\n",
      "|          527816441|1634343098334560258|2023-03-10T23:58:...|1634343098334560258|               0|         0|          0|          0|           22|RT @gp_pulipaka: ...|\n",
      "|1376369378896322562|1634199932738600963|2023-03-10T23:57:...|1634342770092437507|              41|         1|          0|          0|            0|@avikumart_ @Save...|\n",
      "| 729797600761683968|1634342729462476800|2023-03-10T23:57:...|1634342729462476800|               0|         0|          0|          0|          135|RT @gp_pulipaka: ...|\n",
      "|         3917217552|1634342528852934657|2023-03-10T23:56:...|1634342528852934657|              44|         0|          0|          0|            0|The History and I...|\n",
      "|          760308236|1634342491359961088|2023-03-10T23:56:...|1634342491359961088|              23|         1|          0|          0|            1|Send Me A DM for ...|\n",
      "|1255022272412172288|1634342468710793218|2023-03-10T23:56:...|1634342468710793218|               0|         0|          0|          0|            1|RT @KevinClarity:...|\n",
      "|          190097582|1634342338368622594|2023-03-10T23:55:...|1634342338368622594|               0|         0|          0|          0|            2|RT @dolfordhacksi...|\n",
      "|         2361459788|1634342335533268992|2023-03-10T23:55:...|1634342335533268992|               0|         0|          0|          0|           76|RT @RosanaFerrero...|\n",
      "|          247302690|1634342296471719937|2023-03-10T23:55:...|1634342296471719937|               0|         0|          0|          0|          141|RT @gp_pulipaka: ...|\n",
      "|          760308236|1634342151508090882|2023-03-10T23:55:...|1634342151508090882|               3|         0|          0|          0|            1|If your account i...|\n",
      "|1632842803867795457|1634342096197894146|2023-03-10T23:54:...|1634342096197894146|               1|         0|          0|          0|            0|C++ is mainly use...|\n",
      "+-------------------+-------------------+--------------------+-------------------+----------------+----------+-----------+-----------+-------------+--------------------+\n",
      "only showing top 20 rows\n",
      "\n"
     ]
    }
   ],
   "source": [
    "tweet_df.show()"
   ]
  },
  {
   "cell_type": "code",
   "execution_count": 12,
   "metadata": {},
   "outputs": [],
   "source": [
    "user_df = df.select(f.explode(\"includes.users\").alias(\"users\"))\\\n",
    "  .select(\"users.*\")"
   ]
  },
  {
   "cell_type": "code",
   "execution_count": 13,
   "metadata": {},
   "outputs": [
    {
     "name": "stdout",
     "output_type": "stream",
     "text": [
      "+--------------------+-------------------+--------------------+---------------+--------+\n",
      "|          created_at|                 id|                name|       username|withheld|\n",
      "+--------------------+-------------------+--------------------+---------------+--------+\n",
      "|2023-03-10T22:09:...|1634315582857256960|       Abusadeeq ias|  abusadeeq_ias|    null|\n",
      "|2010-05-30T22:07:...|          150030084|       Andrés A León|   Andres_ALeon|    null|\n",
      "|2021-02-02T12:59:...|1356588046616043527|AI Bot by uCloudi...|    uCloudifyAI|    null|\n",
      "|2017-10-22T14:38:...| 922109833637126147|        Gift Coupons|     CourseGift|    null|\n",
      "|2011-01-14T08:47:...|          238071685|              Jerome|     JeromeFAJi|    null|\n",
      "|2012-02-08T12:47:...|          486573105|    inKstall Educare|       Inkstall|    null|\n",
      "|2015-10-05T19:07:...|         3873598893|     Matthew Gellman|     ProjectNav|    null|\n",
      "|2009-08-09T15:56:...|           64197067|         Bill Brooks|BROOKSWOODWORKS|    null|\n",
      "|2012-03-17T20:35:...|          527816441|Mai_Sudan of kont...|     iamisamusa|    null|\n",
      "|2021-03-29T03:03:...|1376369378896322562|       Gustavo Silva|         guhls_|    null|\n",
      "|2016-05-09T22:18:...| 729797600761683968| Saraswanto Setiawan|    saraswantos|    null|\n",
      "|2015-10-16T20:12:...|         3917217552|Kevin Corella N. ...|   KevinClarity|    null|\n",
      "|2012-08-15T22:37:...|          760308236|        Rapidd_hacks|   Rapidd_hacks|    null|\n",
      "|2020-04-28T06:33:...|1255022272412172288|ᴛᴇᴄʜ ɪɴᴊᴇᴋᴛɪᴏɴ 🖥...|  techinjektion|    null|\n",
      "|2010-09-13T02:13:...|          190097582|        jayeshthakur|  jayeshmthakur|    null|\n",
      "|2014-02-25T18:05:...|         2361459788|Miguel Angel Cont...|    MiguelSieck|    null|\n",
      "|2011-02-04T14:32:...|          247302690|      Milton Fajardo|       chatuxxx|    null|\n",
      "|2023-03-06T20:37:...|1632842803867795457|           Mike_tech|Miketec37214171|    null|\n",
      "|2019-07-15T17:30:...|1150819952473120769|    Guineo depresivo|GuineoDepresivo|    null|\n",
      "|2016-05-30T04:42:...| 737142202481016832|     Chidambara .ML.|   chidambara09|    null|\n",
      "+--------------------+-------------------+--------------------+---------------+--------+\n",
      "only showing top 20 rows\n",
      "\n"
     ]
    }
   ],
   "source": [
    "user_df.show()"
   ]
  },
  {
   "cell_type": "code",
   "execution_count": 14,
   "metadata": {},
   "outputs": [
    {
     "name": "stderr",
     "output_type": "stream",
     "text": [
      "                                                                                \r"
     ]
    }
   ],
   "source": [
    "user_df.coalesce(1).write.mode(\"overwrite\").json('notebook_output/user')\n",
    "tweet_df.coalesce(1).write.mode(\"overwrite\").json('notebook_output/tweet')"
   ]
  },
  {
   "attachments": {},
   "cell_type": "markdown",
   "metadata": {},
   "source": [
    "## Exploração Silver\n"
   ]
  },
  {
   "cell_type": "code",
   "execution_count": 16,
   "metadata": {},
   "outputs": [],
   "source": [
    "df_tweet = spark.read.json(\"../../datalake/Silver/twitter_datascience/tweet/\")"
   ]
  },
  {
   "cell_type": "code",
   "execution_count": 17,
   "metadata": {},
   "outputs": [],
   "source": [
    "tweet_conversas = df_tweet.alias(\"tweet\")\\\n",
    "        .groupBy(f.to_date(\"created_at\").alias(\"created_date\"))\\\n",
    "        .agg(\n",
    "            f.countDistinct(\"author_id\").alias(\"n_tweets\"),\n",
    "            f.sum(\"like_count\").alias(\"n_like\"),\n",
    "            f.sum(\"quote_count\").alias(\"n_quote\"),\n",
    "            f.sum(\"reply_count\").alias(\"n_reply\"),\n",
    "            f.sum(\"retweet_count\").alias(\"n_retweet\")\n",
    "        ).withColumn(\"weekday\", f.date_format(\"created_date\", \"E\"))\n"
   ]
  },
  {
   "cell_type": "code",
   "execution_count": 18,
   "metadata": {},
   "outputs": [
    {
     "name": "stderr",
     "output_type": "stream",
     "text": [
      "                                                                                \r"
     ]
    },
    {
     "name": "stdout",
     "output_type": "stream",
     "text": [
      "+------------+--------+------+-------+-------+---------+-------+\n",
      "|created_date|n_tweets|n_like|n_quote|n_reply|n_retweet|weekday|\n",
      "+------------+--------+------+-------+-------+---------+-------+\n",
      "|  2023-03-09|      53|    84|      1|      2|     1123|    Thu|\n",
      "|  2023-03-10|      72|    29|      0|      1|     4944|    Fri|\n",
      "|  2023-03-11|      48|   436|     12|      6|     6246|    Sat|\n",
      "+------------+--------+------+-------+-------+---------+-------+\n",
      "\n"
     ]
    }
   ],
   "source": [
    "\n",
    "tweet_conversas.orderBy(\"created_date\").show()"
   ]
  },
  {
   "cell_type": "code",
   "execution_count": null,
   "metadata": {},
   "outputs": [],
   "source": []
  }
 ],
 "metadata": {
  "kernelspec": {
   "display_name": "venv",
   "language": "python",
   "name": "python3"
  },
  "language_info": {
   "codemirror_mode": {
    "name": "ipython",
    "version": 3
   },
   "file_extension": ".py",
   "mimetype": "text/x-python",
   "name": "python",
   "nbconvert_exporter": "python",
   "pygments_lexer": "ipython3",
   "version": "3.9.5"
  },
  "orig_nbformat": 4
 },
 "nbformat": 4,
 "nbformat_minor": 2
}
